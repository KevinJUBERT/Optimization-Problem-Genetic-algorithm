{
 "cells": [
  {
   "cell_type": "code",
   "execution_count": 1,
   "metadata": {},
   "outputs": [
    {
     "name": "stdout",
     "output_type": "stream",
     "text": [
      "importing Jupyter notebook from Fonctions.ipynb\n",
      "\n"
     ]
    }
   ],
   "source": [
    "import numpy as np\n",
    "import pandas as pd\n",
    "import import_ipynb\n",
    "import Fonctions\n",
    "import random"
   ]
  },
  {
   "cell_type": "code",
   "execution_count": 2,
   "metadata": {},
   "outputs": [],
   "source": [
    "from random import sample\n",
    "from random import randint \n",
    "from scipy.optimize import fsolve"
   ]
  },
  {
   "cell_type": "code",
   "execution_count": 3,
   "metadata": {},
   "outputs": [],
   "source": [
    "#pip install geneticalgorithm"
   ]
  },
  {
   "cell_type": "code",
   "execution_count": 4,
   "metadata": {},
   "outputs": [],
   "source": [
    "#Decision Variables :\n",
    "        \n",
    "list_facilities =  [\"A\",\"B\",\"C\",\"D\"]\n",
    "custumer = list(range(1,8))\n",
    "cost_delivery ={\"A\":[4,6,4,5,5,6,3],\"B\":[3,5,4,2,4,6,2],\"C\":[5,4,5,6,6,4,5],\"D\":[7,5,8,5,6,7,6]}\n",
    "cost_activation ={\"A\":750 , \"B\":1200, \"C\":900, \"D\":400}\n",
    "yearly_demand = {\"1\":80,\"2\":270,\"3\":250,\"4\":160,\"5\":180,\"6\":200,\"7\":180}\n",
    "yearly_capacity = {\"A\":400 , \"B\":700 , \"C\":550, \"D\":440}"
   ]
  },
  {
   "cell_type": "code",
   "execution_count": 5,
   "metadata": {},
   "outputs": [
    {
     "data": {
      "text/html": [
       "<div>\n",
       "<style scoped>\n",
       "    .dataframe tbody tr th:only-of-type {\n",
       "        vertical-align: middle;\n",
       "    }\n",
       "\n",
       "    .dataframe tbody tr th {\n",
       "        vertical-align: top;\n",
       "    }\n",
       "\n",
       "    .dataframe thead th {\n",
       "        text-align: right;\n",
       "    }\n",
       "</style>\n",
       "<table border=\"1\" class=\"dataframe\">\n",
       "  <thead>\n",
       "    <tr style=\"text-align: right;\">\n",
       "      <th></th>\n",
       "      <th>Activation Price ($)</th>\n",
       "      <th>Yearly Capacity (Unity)</th>\n",
       "    </tr>\n",
       "  </thead>\n",
       "  <tbody>\n",
       "    <tr>\n",
       "      <th>A</th>\n",
       "      <td>750</td>\n",
       "      <td>400</td>\n",
       "    </tr>\n",
       "    <tr>\n",
       "      <th>B</th>\n",
       "      <td>1200</td>\n",
       "      <td>700</td>\n",
       "    </tr>\n",
       "    <tr>\n",
       "      <th>C</th>\n",
       "      <td>900</td>\n",
       "      <td>550</td>\n",
       "    </tr>\n",
       "    <tr>\n",
       "      <th>D</th>\n",
       "      <td>400</td>\n",
       "      <td>440</td>\n",
       "    </tr>\n",
       "  </tbody>\n",
       "</table>\n",
       "</div>"
      ],
      "text/plain": [
       "   Activation Price ($)   Yearly Capacity (Unity)\n",
       "A                    750                      400\n",
       "B                   1200                      700\n",
       "C                    900                      550\n",
       "D                    400                      440"
      ]
     },
     "execution_count": 5,
     "metadata": {},
     "output_type": "execute_result"
    }
   ],
   "source": [
    "# Production DataFrame\n",
    "production =  [cost_activation, yearly_capacity]\n",
    "df_production = pd.DataFrame(data = production, index = [\"Activation Price ($) \",\"Yearly Capacity (Unity)\"])\n",
    "df_production.T"
   ]
  },
  {
   "cell_type": "code",
   "execution_count": 6,
   "metadata": {},
   "outputs": [
    {
     "name": "stdout",
     "output_type": "stream",
     "text": [
      "         Yearly Demand\n"
     ]
    },
    {
     "data": {
      "text/html": [
       "<div>\n",
       "<style scoped>\n",
       "    .dataframe tbody tr th:only-of-type {\n",
       "        vertical-align: middle;\n",
       "    }\n",
       "\n",
       "    .dataframe tbody tr th {\n",
       "        vertical-align: top;\n",
       "    }\n",
       "\n",
       "    .dataframe thead th {\n",
       "        text-align: right;\n",
       "    }\n",
       "</style>\n",
       "<table border=\"1\" class=\"dataframe\">\n",
       "  <thead>\n",
       "    <tr style=\"text-align: right;\">\n",
       "      <th></th>\n",
       "      <th>0</th>\n",
       "      <th>1</th>\n",
       "      <th>2</th>\n",
       "      <th>3</th>\n",
       "      <th>4</th>\n",
       "      <th>5</th>\n",
       "      <th>6</th>\n",
       "    </tr>\n",
       "  </thead>\n",
       "  <tbody>\n",
       "    <tr>\n",
       "      <th>0</th>\n",
       "      <td>80</td>\n",
       "      <td>270</td>\n",
       "      <td>250</td>\n",
       "      <td>160</td>\n",
       "      <td>180</td>\n",
       "      <td>200</td>\n",
       "      <td>180</td>\n",
       "    </tr>\n",
       "  </tbody>\n",
       "</table>\n",
       "</div>"
      ],
      "text/plain": [
       "    0    1    2    3    4    5    6\n",
       "0  80  270  250  160  180  200  180"
      ]
     },
     "execution_count": 6,
     "metadata": {},
     "output_type": "execute_result"
    }
   ],
   "source": [
    "# Yearly Demand\n",
    "print(\"         Yearly Demand\")\n",
    "\n",
    "df_yearly_demand = pd.DataFrame(yearly_demand.values())\n",
    "df_yearly_demand.T"
   ]
  },
  {
   "cell_type": "code",
   "execution_count": 7,
   "metadata": {},
   "outputs": [
    {
     "name": "stdout",
     "output_type": "stream",
     "text": [
      "     Cost Matrix\n"
     ]
    },
    {
     "data": {
      "text/html": [
       "<div>\n",
       "<style scoped>\n",
       "    .dataframe tbody tr th:only-of-type {\n",
       "        vertical-align: middle;\n",
       "    }\n",
       "\n",
       "    .dataframe tbody tr th {\n",
       "        vertical-align: top;\n",
       "    }\n",
       "\n",
       "    .dataframe thead th {\n",
       "        text-align: right;\n",
       "    }\n",
       "</style>\n",
       "<table border=\"1\" class=\"dataframe\">\n",
       "  <thead>\n",
       "    <tr style=\"text-align: right;\">\n",
       "      <th></th>\n",
       "      <th>1</th>\n",
       "      <th>2</th>\n",
       "      <th>3</th>\n",
       "      <th>4</th>\n",
       "      <th>5</th>\n",
       "      <th>6</th>\n",
       "      <th>7</th>\n",
       "    </tr>\n",
       "  </thead>\n",
       "  <tbody>\n",
       "    <tr>\n",
       "      <th>A</th>\n",
       "      <td>4</td>\n",
       "      <td>6</td>\n",
       "      <td>4</td>\n",
       "      <td>5</td>\n",
       "      <td>5</td>\n",
       "      <td>6</td>\n",
       "      <td>3</td>\n",
       "    </tr>\n",
       "    <tr>\n",
       "      <th>B</th>\n",
       "      <td>3</td>\n",
       "      <td>5</td>\n",
       "      <td>4</td>\n",
       "      <td>2</td>\n",
       "      <td>4</td>\n",
       "      <td>6</td>\n",
       "      <td>2</td>\n",
       "    </tr>\n",
       "    <tr>\n",
       "      <th>C</th>\n",
       "      <td>5</td>\n",
       "      <td>4</td>\n",
       "      <td>5</td>\n",
       "      <td>6</td>\n",
       "      <td>6</td>\n",
       "      <td>4</td>\n",
       "      <td>5</td>\n",
       "    </tr>\n",
       "    <tr>\n",
       "      <th>D</th>\n",
       "      <td>7</td>\n",
       "      <td>5</td>\n",
       "      <td>8</td>\n",
       "      <td>5</td>\n",
       "      <td>6</td>\n",
       "      <td>7</td>\n",
       "      <td>6</td>\n",
       "    </tr>\n",
       "  </tbody>\n",
       "</table>\n",
       "</div>"
      ],
      "text/plain": [
       "   1  2  3  4  5  6  7\n",
       "A  4  6  4  5  5  6  3\n",
       "B  3  5  4  2  4  6  2\n",
       "C  5  4  5  6  6  4  5\n",
       "D  7  5  8  5  6  7  6"
      ]
     },
     "execution_count": 7,
     "metadata": {},
     "output_type": "execute_result"
    }
   ],
   "source": [
    "#Cost Matrix\n",
    "cost_matrix = []\n",
    "for i in range(len(list_facilities)):\n",
    "    cost_matrix.append(cost_delivery[list_facilities[i]])\n",
    "cost_matrix = np.asarray(cost_matrix)\n",
    "#print(cost_matrix)\n",
    "print(\"     Cost Matrix\")\n",
    "df2 =  pd.DataFrame(cost_matrix, index = list_facilities, columns = list(range(1,len(custumer)+1))   )\n",
    "df2"
   ]
  },
  {
   "cell_type": "markdown",
   "metadata": {},
   "source": [
    "### Generate Parents\n",
    "We create Parents 1 & 2"
   ]
  },
  {
   "cell_type": "code",
   "execution_count": 8,
   "metadata": {},
   "outputs": [],
   "source": [
    "Natural_selection = Fonctions.natural_selection()\n",
    "#print(Natural_selection)"
   ]
  },
  {
   "cell_type": "code",
   "execution_count": 9,
   "metadata": {},
   "outputs": [
    {
     "data": {
      "text/html": [
       "<div>\n",
       "<style scoped>\n",
       "    .dataframe tbody tr th:only-of-type {\n",
       "        vertical-align: middle;\n",
       "    }\n",
       "\n",
       "    .dataframe tbody tr th {\n",
       "        vertical-align: top;\n",
       "    }\n",
       "\n",
       "    .dataframe thead th {\n",
       "        text-align: right;\n",
       "    }\n",
       "</style>\n",
       "<table border=\"1\" class=\"dataframe\">\n",
       "  <thead>\n",
       "    <tr style=\"text-align: right;\">\n",
       "      <th></th>\n",
       "      <th>1</th>\n",
       "      <th>2</th>\n",
       "      <th>3</th>\n",
       "      <th>4</th>\n",
       "      <th>5</th>\n",
       "      <th>6</th>\n",
       "      <th>7</th>\n",
       "    </tr>\n",
       "  </thead>\n",
       "  <tbody>\n",
       "    <tr>\n",
       "      <th>A</th>\n",
       "      <td>3</td>\n",
       "      <td>192</td>\n",
       "      <td>0</td>\n",
       "      <td>0</td>\n",
       "      <td>0</td>\n",
       "      <td>0</td>\n",
       "      <td>0</td>\n",
       "    </tr>\n",
       "    <tr>\n",
       "      <th>B</th>\n",
       "      <td>49</td>\n",
       "      <td>0</td>\n",
       "      <td>250</td>\n",
       "      <td>160</td>\n",
       "      <td>0</td>\n",
       "      <td>3</td>\n",
       "      <td>132</td>\n",
       "    </tr>\n",
       "    <tr>\n",
       "      <th>C</th>\n",
       "      <td>28</td>\n",
       "      <td>78</td>\n",
       "      <td>0</td>\n",
       "      <td>0</td>\n",
       "      <td>180</td>\n",
       "      <td>189</td>\n",
       "      <td>0</td>\n",
       "    </tr>\n",
       "    <tr>\n",
       "      <th>D</th>\n",
       "      <td>0</td>\n",
       "      <td>0</td>\n",
       "      <td>0</td>\n",
       "      <td>0</td>\n",
       "      <td>0</td>\n",
       "      <td>8</td>\n",
       "      <td>48</td>\n",
       "    </tr>\n",
       "  </tbody>\n",
       "</table>\n",
       "</div>"
      ],
      "text/plain": [
       "    1    2    3    4    5    6    7\n",
       "A   3  192    0    0    0    0    0\n",
       "B  49    0  250  160    0    3  132\n",
       "C  28   78    0    0  180  189    0\n",
       "D   0    0    0    0    0    8   48"
      ]
     },
     "execution_count": 9,
     "metadata": {},
     "output_type": "execute_result"
    }
   ],
   "source": [
    "Parent1 = Natural_selection[0][1]\n",
    "df = pd.DataFrame(Parent1, index = list_facilities, columns = list(np.arange(1,8)))\n",
    "df"
   ]
  },
  {
   "cell_type": "code",
   "execution_count": 10,
   "metadata": {},
   "outputs": [
    {
     "data": {
      "text/html": [
       "<div>\n",
       "<style scoped>\n",
       "    .dataframe tbody tr th:only-of-type {\n",
       "        vertical-align: middle;\n",
       "    }\n",
       "\n",
       "    .dataframe tbody tr th {\n",
       "        vertical-align: top;\n",
       "    }\n",
       "\n",
       "    .dataframe thead th {\n",
       "        text-align: right;\n",
       "    }\n",
       "</style>\n",
       "<table border=\"1\" class=\"dataframe\">\n",
       "  <thead>\n",
       "    <tr style=\"text-align: right;\">\n",
       "      <th></th>\n",
       "      <th>1</th>\n",
       "      <th>2</th>\n",
       "      <th>3</th>\n",
       "      <th>4</th>\n",
       "      <th>5</th>\n",
       "      <th>6</th>\n",
       "      <th>7</th>\n",
       "    </tr>\n",
       "  </thead>\n",
       "  <tbody>\n",
       "    <tr>\n",
       "      <th>A</th>\n",
       "      <td>70</td>\n",
       "      <td>114</td>\n",
       "      <td>11</td>\n",
       "      <td>49</td>\n",
       "      <td>60</td>\n",
       "      <td>0</td>\n",
       "      <td>31</td>\n",
       "    </tr>\n",
       "    <tr>\n",
       "      <th>B</th>\n",
       "      <td>0</td>\n",
       "      <td>156</td>\n",
       "      <td>176</td>\n",
       "      <td>0</td>\n",
       "      <td>0</td>\n",
       "      <td>181</td>\n",
       "      <td>0</td>\n",
       "    </tr>\n",
       "    <tr>\n",
       "      <th>C</th>\n",
       "      <td>10</td>\n",
       "      <td>0</td>\n",
       "      <td>63</td>\n",
       "      <td>111</td>\n",
       "      <td>120</td>\n",
       "      <td>0</td>\n",
       "      <td>149</td>\n",
       "    </tr>\n",
       "    <tr>\n",
       "      <th>D</th>\n",
       "      <td>0</td>\n",
       "      <td>0</td>\n",
       "      <td>0</td>\n",
       "      <td>0</td>\n",
       "      <td>0</td>\n",
       "      <td>19</td>\n",
       "      <td>0</td>\n",
       "    </tr>\n",
       "  </tbody>\n",
       "</table>\n",
       "</div>"
      ],
      "text/plain": [
       "    1    2    3    4    5    6    7\n",
       "A  70  114   11   49   60    0   31\n",
       "B   0  156  176    0    0  181    0\n",
       "C  10    0   63  111  120    0  149\n",
       "D   0    0    0    0    0   19    0"
      ]
     },
     "execution_count": 10,
     "metadata": {},
     "output_type": "execute_result"
    }
   ],
   "source": [
    "Parent2 = Natural_selection[1][1]\n",
    "df = pd.DataFrame(Parent2, index = list_facilities, columns = list(np.arange(1,8)))\n",
    "df"
   ]
  },
  {
   "cell_type": "code",
   "execution_count": 11,
   "metadata": {},
   "outputs": [
    {
     "name": "stdout",
     "output_type": "stream",
     "text": [
      "Price of Combination Parent 1 :  8795 $\n",
      "Price of Combination Parent 2 :  8799 $\n"
     ]
    }
   ],
   "source": [
    "print(\"Price of Combination Parent 1 : \",Natural_selection[0][0],\"$\")\n",
    "print(\"Price of Combination Parent 2 : \",Natural_selection[1][0],\"$\")"
   ]
  },
  {
   "cell_type": "markdown",
   "metadata": {},
   "source": [
    "### Analyse of Parents 1 & 2"
   ]
  },
  {
   "cell_type": "code",
   "execution_count": 12,
   "metadata": {},
   "outputs": [
    {
     "name": "stdout",
     "output_type": "stream",
     "text": [
      "                            ****   Parent 1  ****\n",
      "+============================================================================+\n",
      "+============================================================================+\n",
      "Production of Facility A  =  195  < Maximal Capacity of Production :  400\n",
      "Production of Facility B  =  594  < Maximal Capacity of Production :  700\n",
      "Production of Facility C  =  475  < Maximal Capacity of Production :  550\n",
      "Production of Facility D  =  56  < Maximal Capacity of Production :  440\n",
      "+============================================================================+\n",
      "| Total Production :  1320            | \n",
      "+============================================================================+\n",
      "1320\n",
      "+============================================================================+\n",
      "\n",
      " Custumer  1 : 80 |  Custumer  2 : 270 |  Custumer  3 : 250 | \n",
      " Custumer  4 : 160 |  Custumer  5 : 180 |  Custumer  6 : 200 | \n",
      " Custumer  7 : 180 | \n",
      "+============================================================================+\n",
      "|               Total of Demands  by Custumer:   1320 |\n",
      "+============================================================================+\n",
      "[1320, [80, 270, 250, 160, 180, 200, 180]]\n",
      "+============================================================================+\n",
      "\n",
      "Somme secondaire :  1914\n",
      " Facility  A : 1914$ | Somme secondaire :  4863\n",
      " Facility  B : 2949$ | Somme secondaire :  8051\n",
      " Facility  C : 3188$ | \n",
      "Somme secondaire :  8795\n",
      " Facility  D : 744$ | \n",
      "+============================================================================+\n",
      "| Total Price of Production : 8795 $\n",
      "+============================================================================+\n",
      "[8795, [1164, 1749, 2288, 344]]\n",
      "+============================================================================+\n",
      "\n",
      "Somme secondaire :  1914\n",
      " Facility  A : 1914$ | Somme secondaire :  4863\n",
      " Facility  B : 2949$ | Somme secondaire :  8051\n",
      " Facility  C : 3188$ | \n",
      "Somme secondaire :  8795\n",
      " Facility  D : 744$ | \n",
      "+============================================================================+\n",
      "| Total Price of Production : 8795 $\n",
      "+============================================================================+\n"
     ]
    },
    {
     "data": {
      "image/png": "[encoded data removed]",
      "text/plain": [
       "<Figure size 432x288 with 1 Axes>"
      ]
     },
     "metadata": {},
     "output_type": "display_data"
    },
    {
     "name": "stdout",
     "output_type": "stream",
     "text": [
      "None\n",
      "\n",
      "Somme secondaire :  1914\n",
      " Facility  A : 1914$ | Somme secondaire :  4863\n",
      " Facility  B : 2949$ | Somme secondaire :  8051\n",
      " Facility  C : 3188$ | \n",
      "Somme secondaire :  8795\n",
      " Facility  D : 744$ | \n",
      "+============================================================================+\n",
      "| Total Price of Production : 8795 $\n",
      "+============================================================================+\n",
      "8795\n"
     ]
    }
   ],
   "source": [
    "# Total Demand by Custumer\n",
    "print(\"                            ****   Parent 1  ****\")\n",
    "print(\"+============================================================================+\")\n",
    "print(Fonctions.bill(Parent1))"
   ]
  },
  {
   "cell_type": "code",
   "execution_count": 13,
   "metadata": {},
   "outputs": [
    {
     "name": "stdout",
     "output_type": "stream",
     "text": [
      "                            ****   Parent 2  ****\n",
      "+============================================================================+\n",
      "+============================================================================+\n",
      "Production of Facility A  =  335  < Maximal Capacity of Production :  400\n",
      "Production of Facility B  =  513  < Maximal Capacity of Production :  700\n",
      "Production of Facility C  =  453  < Maximal Capacity of Production :  550\n",
      "Production of Facility D  =  19  < Maximal Capacity of Production :  440\n",
      "+============================================================================+\n",
      "| Total Production :  1320            | \n",
      "+============================================================================+\n",
      "1320\n",
      "+============================================================================+\n",
      "\n",
      " Custumer  1 : 80 |  Custumer  2 : 270 |  Custumer  3 : 250 | \n",
      " Custumer  4 : 160 |  Custumer  5 : 180 |  Custumer  6 : 200 | \n",
      " Custumer  7 : 180 | \n",
      "+============================================================================+\n",
      "|               Total of Demands  by Custumer:   1320 |\n",
      "+============================================================================+\n",
      "[1320, [80, 270, 250, 160, 180, 200, 180]]\n",
      "+============================================================================+\n",
      "\n",
      "Somme secondaire :  2396\n",
      " Facility  A : 2396$ | Somme secondaire :  6166\n",
      " Facility  B : 3770$ | Somme secondaire :  9562\n",
      " Facility  C : 3396$ | \n",
      "Somme secondaire :  10095\n",
      " Facility  D : 533$ | \n",
      "+============================================================================+\n",
      "| Total Price of Production : 10095 $\n",
      "+============================================================================+\n",
      "[10095, [1646, 2570, 2496, 133]]\n",
      "+============================================================================+\n",
      "\n",
      "Somme secondaire :  2396\n",
      " Facility  A : 2396$ | Somme secondaire :  6166\n",
      " Facility  B : 3770$ | Somme secondaire :  9562\n",
      " Facility  C : 3396$ | \n",
      "Somme secondaire :  10095\n",
      " Facility  D : 533$ | \n",
      "+============================================================================+\n",
      "| Total Price of Production : 10095 $\n",
      "+============================================================================+\n"
     ]
    },
    {
     "data": {
      "image/png": "[encoded data removed]",
      "text/plain": [
       "<Figure size 432x288 with 1 Axes>"
      ]
     },
     "metadata": {},
     "output_type": "display_data"
    },
    {
     "name": "stdout",
     "output_type": "stream",
     "text": [
      "None\n",
      "\n",
      "Somme secondaire :  2396\n",
      " Facility  A : 2396$ | Somme secondaire :  6166\n",
      " Facility  B : 3770$ | Somme secondaire :  9562\n",
      " Facility  C : 3396$ | \n",
      "Somme secondaire :  10095\n",
      " Facility  D : 533$ | \n",
      "+============================================================================+\n",
      "| Total Price of Production : 10095 $\n",
      "+============================================================================+\n",
      "10095\n"
     ]
    }
   ],
   "source": [
    "print(\"                            ****   Parent 2  ****\")\n",
    "print(\"+============================================================================+\")\n",
    "print(Fonctions.bill(Parent2))"
   ]
  },
  {
   "cell_type": "code",
   "execution_count": 14,
   "metadata": {},
   "outputs": [],
   "source": [
    "#df = pd.DataFrame(Parent1, columns = list(range(1,8)))\n",
    "#df.describe()"
   ]
  },
  {
   "cell_type": "markdown",
   "metadata": {},
   "source": [
    "### Generate Children 1 & 2"
   ]
  },
  {
   "cell_type": "code",
   "execution_count": 15,
   "metadata": {},
   "outputs": [
    {
     "name": "stdout",
     "output_type": "stream",
     "text": [
      "Child 1 : \n",
      "\n"
     ]
    },
    {
     "data": {
      "text/html": [
       "<div>\n",
       "<style scoped>\n",
       "    .dataframe tbody tr th:only-of-type {\n",
       "        vertical-align: middle;\n",
       "    }\n",
       "\n",
       "    .dataframe tbody tr th {\n",
       "        vertical-align: top;\n",
       "    }\n",
       "\n",
       "    .dataframe thead th {\n",
       "        text-align: right;\n",
       "    }\n",
       "</style>\n",
       "<table border=\"1\" class=\"dataframe\">\n",
       "  <thead>\n",
       "    <tr style=\"text-align: right;\">\n",
       "      <th></th>\n",
       "      <th>1</th>\n",
       "      <th>2</th>\n",
       "      <th>3</th>\n",
       "      <th>4</th>\n",
       "      <th>5</th>\n",
       "      <th>6</th>\n",
       "      <th>7</th>\n",
       "    </tr>\n",
       "  </thead>\n",
       "  <tbody>\n",
       "    <tr>\n",
       "      <th>A</th>\n",
       "      <td>3</td>\n",
       "      <td>192</td>\n",
       "      <td>0</td>\n",
       "      <td>0</td>\n",
       "      <td>0</td>\n",
       "      <td>0</td>\n",
       "      <td>0</td>\n",
       "    </tr>\n",
       "    <tr>\n",
       "      <th>B</th>\n",
       "      <td>49</td>\n",
       "      <td>0</td>\n",
       "      <td>250</td>\n",
       "      <td>160</td>\n",
       "      <td>0</td>\n",
       "      <td>3</td>\n",
       "      <td>132</td>\n",
       "    </tr>\n",
       "    <tr>\n",
       "      <th>C</th>\n",
       "      <td>10</td>\n",
       "      <td>0</td>\n",
       "      <td>63</td>\n",
       "      <td>111</td>\n",
       "      <td>120</td>\n",
       "      <td>0</td>\n",
       "      <td>149</td>\n",
       "    </tr>\n",
       "    <tr>\n",
       "      <th>D</th>\n",
       "      <td>0</td>\n",
       "      <td>0</td>\n",
       "      <td>0</td>\n",
       "      <td>0</td>\n",
       "      <td>0</td>\n",
       "      <td>19</td>\n",
       "      <td>0</td>\n",
       "    </tr>\n",
       "  </tbody>\n",
       "</table>\n",
       "</div>"
      ],
      "text/plain": [
       "    1    2    3    4    5   6    7\n",
       "A   3  192    0    0    0   0    0\n",
       "B  49    0  250  160    0   3  132\n",
       "C  10    0   63  111  120   0  149\n",
       "D   0    0    0    0    0  19    0"
      ]
     },
     "execution_count": 15,
     "metadata": {},
     "output_type": "execute_result"
    }
   ],
   "source": [
    "List_Child = list(Fonctions.crossOver(Parent1, Parent2))\n",
    "Child1 = List_Child[0]\n",
    "Child2 = List_Child[1]\n",
    "\n",
    "print(\"Child 1 : \\n\")\n",
    "df = pd.DataFrame(Child1, index = list_facilities, columns = list(np.arange(1,8)))\n",
    "df"
   ]
  },
  {
   "cell_type": "code",
   "execution_count": 16,
   "metadata": {},
   "outputs": [
    {
     "name": "stdout",
     "output_type": "stream",
     "text": [
      "Child 2 : \n",
      "\n"
     ]
    },
    {
     "data": {
      "text/html": [
       "<div>\n",
       "<style scoped>\n",
       "    .dataframe tbody tr th:only-of-type {\n",
       "        vertical-align: middle;\n",
       "    }\n",
       "\n",
       "    .dataframe tbody tr th {\n",
       "        vertical-align: top;\n",
       "    }\n",
       "\n",
       "    .dataframe thead th {\n",
       "        text-align: right;\n",
       "    }\n",
       "</style>\n",
       "<table border=\"1\" class=\"dataframe\">\n",
       "  <thead>\n",
       "    <tr style=\"text-align: right;\">\n",
       "      <th></th>\n",
       "      <th>1</th>\n",
       "      <th>2</th>\n",
       "      <th>3</th>\n",
       "      <th>4</th>\n",
       "      <th>5</th>\n",
       "      <th>6</th>\n",
       "      <th>7</th>\n",
       "    </tr>\n",
       "  </thead>\n",
       "  <tbody>\n",
       "    <tr>\n",
       "      <th>A</th>\n",
       "      <td>70</td>\n",
       "      <td>114</td>\n",
       "      <td>11</td>\n",
       "      <td>49</td>\n",
       "      <td>60</td>\n",
       "      <td>0</td>\n",
       "      <td>31</td>\n",
       "    </tr>\n",
       "    <tr>\n",
       "      <th>B</th>\n",
       "      <td>0</td>\n",
       "      <td>156</td>\n",
       "      <td>176</td>\n",
       "      <td>0</td>\n",
       "      <td>0</td>\n",
       "      <td>181</td>\n",
       "      <td>0</td>\n",
       "    </tr>\n",
       "    <tr>\n",
       "      <th>C</th>\n",
       "      <td>28</td>\n",
       "      <td>78</td>\n",
       "      <td>0</td>\n",
       "      <td>0</td>\n",
       "      <td>180</td>\n",
       "      <td>189</td>\n",
       "      <td>0</td>\n",
       "    </tr>\n",
       "    <tr>\n",
       "      <th>D</th>\n",
       "      <td>0</td>\n",
       "      <td>0</td>\n",
       "      <td>0</td>\n",
       "      <td>0</td>\n",
       "      <td>0</td>\n",
       "      <td>8</td>\n",
       "      <td>48</td>\n",
       "    </tr>\n",
       "  </tbody>\n",
       "</table>\n",
       "</div>"
      ],
      "text/plain": [
       "    1    2    3   4    5    6   7\n",
       "A  70  114   11  49   60    0  31\n",
       "B   0  156  176   0    0  181   0\n",
       "C  28   78    0   0  180  189   0\n",
       "D   0    0    0   0    0    8  48"
      ]
     },
     "execution_count": 16,
     "metadata": {},
     "output_type": "execute_result"
    }
   ],
   "source": [
    "print(\"Child 2 : \\n\")\n",
    "df = pd.DataFrame(Child2, index = list_facilities, columns = list(np.arange(1,8)))\n",
    "df"
   ]
  },
  {
   "cell_type": "markdown",
   "metadata": {},
   "source": [
    "### Check Child "
   ]
  },
  {
   "cell_type": "code",
   "execution_count": 17,
   "metadata": {},
   "outputs": [
    {
     "name": "stdout",
     "output_type": "stream",
     "text": [
      "Child 1 correct?  False     ---    Falt Demands:  [-18, -78, 63, 111, -60, -178, 101]\n",
      "Child 2 correct?  False     ---    Falt Demands:  [18, 78, -63, -111, 60, 178, -101]\n"
     ]
    }
   ],
   "source": [
    "print(\"Child 1 correct? \",Fonctions.check_demand(Child1)[0], \"    ---    Falt Demands: \", Fonctions.check_demand(Child1)[1])\n",
    "print(\"Child 2 correct? \",Fonctions.check_demand(Child2)[0], \"    ---    Falt Demands: \", Fonctions.check_demand(Child2)[1])"
   ]
  },
  {
   "cell_type": "code",
   "execution_count": 18,
   "metadata": {},
   "outputs": [
    {
     "name": "stdout",
     "output_type": "stream",
     "text": [
      "Child 1 correct?  True     ---    Falt Capacity:  [-205, -106, -97, -421]\n",
      "Child 2 correct?  True     ---    Falt Capacity:  [-65, -187, -75, -384]\n"
     ]
    }
   ],
   "source": [
    "print(\"Child 1 correct? \",Fonctions.check_capacity(Child1)[0], \"    ---    Falt Capacity: \", Fonctions.check_capacity(Child1)[1])\n",
    "print(\"Child 2 correct? \",Fonctions.check_capacity(Child2)[0], \"    ---    Falt Capacity: \", Fonctions.check_capacity(Child2)[1])"
   ]
  },
  {
   "cell_type": "markdown",
   "metadata": {},
   "source": [
    "### CrossOver Condition\n"
   ]
  },
  {
   "cell_type": "code",
   "execution_count": 19,
   "metadata": {},
   "outputs": [
    {
     "data": {
      "text/html": [
       "<div>\n",
       "<style scoped>\n",
       "    .dataframe tbody tr th:only-of-type {\n",
       "        vertical-align: middle;\n",
       "    }\n",
       "\n",
       "    .dataframe tbody tr th {\n",
       "        vertical-align: top;\n",
       "    }\n",
       "\n",
       "    .dataframe thead th {\n",
       "        text-align: right;\n",
       "    }\n",
       "</style>\n",
       "<table border=\"1\" class=\"dataframe\">\n",
       "  <thead>\n",
       "    <tr style=\"text-align: right;\">\n",
       "      <th></th>\n",
       "      <th>1</th>\n",
       "      <th>2</th>\n",
       "      <th>3</th>\n",
       "      <th>4</th>\n",
       "      <th>5</th>\n",
       "      <th>6</th>\n",
       "      <th>7</th>\n",
       "    </tr>\n",
       "  </thead>\n",
       "  <tbody>\n",
       "    <tr>\n",
       "      <th>A</th>\n",
       "      <td>3</td>\n",
       "      <td>192</td>\n",
       "      <td>0</td>\n",
       "      <td>0</td>\n",
       "      <td>0</td>\n",
       "      <td>0</td>\n",
       "      <td>0</td>\n",
       "    </tr>\n",
       "    <tr>\n",
       "      <th>B</th>\n",
       "      <td>49</td>\n",
       "      <td>0</td>\n",
       "      <td>187</td>\n",
       "      <td>49</td>\n",
       "      <td>0</td>\n",
       "      <td>181</td>\n",
       "      <td>132</td>\n",
       "    </tr>\n",
       "    <tr>\n",
       "      <th>C</th>\n",
       "      <td>10</td>\n",
       "      <td>0</td>\n",
       "      <td>63</td>\n",
       "      <td>111</td>\n",
       "      <td>120</td>\n",
       "      <td>0</td>\n",
       "      <td>48</td>\n",
       "    </tr>\n",
       "    <tr>\n",
       "      <th>D</th>\n",
       "      <td>18</td>\n",
       "      <td>78</td>\n",
       "      <td>0</td>\n",
       "      <td>0</td>\n",
       "      <td>60</td>\n",
       "      <td>19</td>\n",
       "      <td>0</td>\n",
       "    </tr>\n",
       "  </tbody>\n",
       "</table>\n",
       "</div>"
      ],
      "text/plain": [
       "    1    2    3    4    5    6    7\n",
       "A   3  192    0    0    0    0    0\n",
       "B  49    0  187   49    0  181  132\n",
       "C  10    0   63  111  120    0   48\n",
       "D  18   78    0    0   60   19    0"
      ]
     },
     "execution_count": 19,
     "metadata": {},
     "output_type": "execute_result"
    }
   ],
   "source": [
    "Child1  = Fonctions.crossOver_condition(Child1)\n",
    "df = pd.DataFrame(Child1, index = list_facilities, columns = list(np.arange(1,8)))\n",
    "df\n"
   ]
  },
  {
   "cell_type": "code",
   "execution_count": 20,
   "metadata": {},
   "outputs": [
    {
     "data": {
      "text/html": [
       "<div>\n",
       "<style scoped>\n",
       "    .dataframe tbody tr th:only-of-type {\n",
       "        vertical-align: middle;\n",
       "    }\n",
       "\n",
       "    .dataframe tbody tr th {\n",
       "        vertical-align: top;\n",
       "    }\n",
       "\n",
       "    .dataframe thead th {\n",
       "        text-align: right;\n",
       "    }\n",
       "</style>\n",
       "<table border=\"1\" class=\"dataframe\">\n",
       "  <thead>\n",
       "    <tr style=\"text-align: right;\">\n",
       "      <th></th>\n",
       "      <th>1</th>\n",
       "      <th>2</th>\n",
       "      <th>3</th>\n",
       "      <th>4</th>\n",
       "      <th>5</th>\n",
       "      <th>6</th>\n",
       "      <th>7</th>\n",
       "    </tr>\n",
       "  </thead>\n",
       "  <tbody>\n",
       "    <tr>\n",
       "      <th>A</th>\n",
       "      <td>52</td>\n",
       "      <td>114</td>\n",
       "      <td>11</td>\n",
       "      <td>49</td>\n",
       "      <td>60</td>\n",
       "      <td>0</td>\n",
       "      <td>31</td>\n",
       "    </tr>\n",
       "    <tr>\n",
       "      <th>B</th>\n",
       "      <td>0</td>\n",
       "      <td>78</td>\n",
       "      <td>176</td>\n",
       "      <td>0</td>\n",
       "      <td>0</td>\n",
       "      <td>181</td>\n",
       "      <td>0</td>\n",
       "    </tr>\n",
       "    <tr>\n",
       "      <th>C</th>\n",
       "      <td>28</td>\n",
       "      <td>78</td>\n",
       "      <td>0</td>\n",
       "      <td>0</td>\n",
       "      <td>120</td>\n",
       "      <td>11</td>\n",
       "      <td>101</td>\n",
       "    </tr>\n",
       "    <tr>\n",
       "      <th>D</th>\n",
       "      <td>0</td>\n",
       "      <td>0</td>\n",
       "      <td>63</td>\n",
       "      <td>111</td>\n",
       "      <td>0</td>\n",
       "      <td>8</td>\n",
       "      <td>48</td>\n",
       "    </tr>\n",
       "  </tbody>\n",
       "</table>\n",
       "</div>"
      ],
      "text/plain": [
       "    1    2    3    4    5    6    7\n",
       "A  52  114   11   49   60    0   31\n",
       "B   0   78  176    0    0  181    0\n",
       "C  28   78    0    0  120   11  101\n",
       "D   0    0   63  111    0    8   48"
      ]
     },
     "execution_count": 20,
     "metadata": {},
     "output_type": "execute_result"
    }
   ],
   "source": [
    "Child2 = Fonctions.crossOver_condition(Child2)\n",
    "#print(Child2)\n",
    "df = pd.DataFrame(Child2, index = list_facilities, columns = list(np.arange(1,8)))\n",
    "df"
   ]
  },
  {
   "cell_type": "markdown",
   "metadata": {},
   "source": [
    "### Check CrossOver Result"
   ]
  },
  {
   "cell_type": "code",
   "execution_count": 21,
   "metadata": {},
   "outputs": [
    {
     "name": "stdout",
     "output_type": "stream",
     "text": [
      "Child 1 correct?  True     ---    Falt Demands:  [0, 0, 0, 0, 0, 0, 0]\n",
      "Child 2 correct?  True     ---    Falt Demands:  [0, 0, 0, 0, 0, 0, 0]\n"
     ]
    }
   ],
   "source": [
    "print(\"Child 1 correct? \",Fonctions.check_demand(Child1)[0], \"    ---    Falt Demands: \", Fonctions.check_demand(Child1)[1])\n",
    "print(\"Child 2 correct? \",Fonctions.check_demand(Child2)[0], \"    ---    Falt Demands: \", Fonctions.check_demand(Child2)[1])"
   ]
  },
  {
   "cell_type": "code",
   "execution_count": 22,
   "metadata": {},
   "outputs": [
    {
     "name": "stdout",
     "output_type": "stream",
     "text": [
      "Child 1 correct?  True     ---    Falt Capacity:  [-205, -102, -198, -265]\n",
      "Child 2 correct?  True     ---    Falt Capacity:  [-83, -265, -212, -210]\n"
     ]
    }
   ],
   "source": [
    "print(\"Child 1 correct? \",Fonctions.check_capacity(Child1)[0], \"    ---    Falt Capacity: \", Fonctions.check_capacity(Child1)[1])\n",
    "print(\"Child 2 correct? \",Fonctions.check_capacity(Child2)[0], \"    ---    Falt Capacity: \", Fonctions.check_capacity(Child2)[1])"
   ]
  },
  {
   "cell_type": "markdown",
   "metadata": {},
   "source": [
    "### Mutation\n",
    "Mutation for Child 1"
   ]
  },
  {
   "cell_type": "code",
   "execution_count": 23,
   "metadata": {},
   "outputs": [
    {
     "data": {
      "text/html": [
       "<div>\n",
       "<style scoped>\n",
       "    .dataframe tbody tr th:only-of-type {\n",
       "        vertical-align: middle;\n",
       "    }\n",
       "\n",
       "    .dataframe tbody tr th {\n",
       "        vertical-align: top;\n",
       "    }\n",
       "\n",
       "    .dataframe thead th {\n",
       "        text-align: right;\n",
       "    }\n",
       "</style>\n",
       "<table border=\"1\" class=\"dataframe\">\n",
       "  <thead>\n",
       "    <tr style=\"text-align: right;\">\n",
       "      <th></th>\n",
       "      <th>1</th>\n",
       "      <th>2</th>\n",
       "      <th>3</th>\n",
       "      <th>4</th>\n",
       "      <th>5</th>\n",
       "      <th>6</th>\n",
       "      <th>7</th>\n",
       "    </tr>\n",
       "  </thead>\n",
       "  <tbody>\n",
       "    <tr>\n",
       "      <th>A</th>\n",
       "      <td>3</td>\n",
       "      <td>192</td>\n",
       "      <td>0</td>\n",
       "      <td>0</td>\n",
       "      <td>0</td>\n",
       "      <td>0</td>\n",
       "      <td>0</td>\n",
       "    </tr>\n",
       "    <tr>\n",
       "      <th>B</th>\n",
       "      <td>49</td>\n",
       "      <td>0</td>\n",
       "      <td>187</td>\n",
       "      <td>49</td>\n",
       "      <td>0</td>\n",
       "      <td>181</td>\n",
       "      <td>132</td>\n",
       "    </tr>\n",
       "    <tr>\n",
       "      <th>C</th>\n",
       "      <td>10</td>\n",
       "      <td>0</td>\n",
       "      <td>63</td>\n",
       "      <td>111</td>\n",
       "      <td>120</td>\n",
       "      <td>0</td>\n",
       "      <td>48</td>\n",
       "    </tr>\n",
       "    <tr>\n",
       "      <th>D</th>\n",
       "      <td>18</td>\n",
       "      <td>78</td>\n",
       "      <td>0</td>\n",
       "      <td>0</td>\n",
       "      <td>60</td>\n",
       "      <td>19</td>\n",
       "      <td>0</td>\n",
       "    </tr>\n",
       "  </tbody>\n",
       "</table>\n",
       "</div>"
      ],
      "text/plain": [
       "    1    2    3    4    5    6    7\n",
       "A   3  192    0    0    0    0    0\n",
       "B  49    0  187   49    0  181  132\n",
       "C  10    0   63  111  120    0   48\n",
       "D  18   78    0    0   60   19    0"
      ]
     },
     "execution_count": 23,
     "metadata": {},
     "output_type": "execute_result"
    }
   ],
   "source": [
    "df = pd.DataFrame(Child1, index = list_facilities, columns = list(np.arange(1,8)))\n",
    "df"
   ]
  },
  {
   "cell_type": "code",
   "execution_count": 24,
   "metadata": {},
   "outputs": [
    {
     "name": "stdout",
     "output_type": "stream",
     "text": [
      "Element : 192  Index row : 0 Index columns : 1\n",
      "+========================================================================+\n",
      "Decomposition ->  [147, 45]\n",
      "+========================================================================+\n"
     ]
    },
    {
     "data": {
      "text/html": [
       "<div>\n",
       "<style scoped>\n",
       "    .dataframe tbody tr th:only-of-type {\n",
       "        vertical-align: middle;\n",
       "    }\n",
       "\n",
       "    .dataframe tbody tr th {\n",
       "        vertical-align: top;\n",
       "    }\n",
       "\n",
       "    .dataframe thead th {\n",
       "        text-align: right;\n",
       "    }\n",
       "</style>\n",
       "<table border=\"1\" class=\"dataframe\">\n",
       "  <thead>\n",
       "    <tr style=\"text-align: right;\">\n",
       "      <th></th>\n",
       "      <th>1</th>\n",
       "      <th>2</th>\n",
       "      <th>3</th>\n",
       "      <th>4</th>\n",
       "      <th>5</th>\n",
       "      <th>6</th>\n",
       "      <th>7</th>\n",
       "    </tr>\n",
       "  </thead>\n",
       "  <tbody>\n",
       "    <tr>\n",
       "      <th>A</th>\n",
       "      <td>3</td>\n",
       "      <td>147</td>\n",
       "      <td>0</td>\n",
       "      <td>0</td>\n",
       "      <td>0</td>\n",
       "      <td>0</td>\n",
       "      <td>0</td>\n",
       "    </tr>\n",
       "    <tr>\n",
       "      <th>B</th>\n",
       "      <td>49</td>\n",
       "      <td>45</td>\n",
       "      <td>187</td>\n",
       "      <td>49</td>\n",
       "      <td>0</td>\n",
       "      <td>181</td>\n",
       "      <td>132</td>\n",
       "    </tr>\n",
       "    <tr>\n",
       "      <th>C</th>\n",
       "      <td>10</td>\n",
       "      <td>0</td>\n",
       "      <td>63</td>\n",
       "      <td>111</td>\n",
       "      <td>120</td>\n",
       "      <td>0</td>\n",
       "      <td>48</td>\n",
       "    </tr>\n",
       "    <tr>\n",
       "      <th>D</th>\n",
       "      <td>18</td>\n",
       "      <td>78</td>\n",
       "      <td>0</td>\n",
       "      <td>0</td>\n",
       "      <td>60</td>\n",
       "      <td>19</td>\n",
       "      <td>0</td>\n",
       "    </tr>\n",
       "  </tbody>\n",
       "</table>\n",
       "</div>"
      ],
      "text/plain": [
       "    1    2    3    4    5    6    7\n",
       "A   3  147    0    0    0    0    0\n",
       "B  49   45  187   49    0  181  132\n",
       "C  10    0   63  111  120    0   48\n",
       "D  18   78    0    0   60   19    0"
      ]
     },
     "execution_count": 24,
     "metadata": {},
     "output_type": "execute_result"
    }
   ],
   "source": [
    "#Fonctions.Mutation(Child1)\n",
    "mutation = Fonctions.Mutation(Child1)\n",
    "\n",
    "df = pd.DataFrame(mutation, index = list_facilities, columns = list(np.arange(1,8)))\n",
    "df"
   ]
  },
  {
   "cell_type": "code",
   "execution_count": 25,
   "metadata": {},
   "outputs": [
    {
     "name": "stdout",
     "output_type": "stream",
     "text": [
      "+============================================================================+\n",
      "Production of Facility A  =  150  < Maximal Capacity of Production :  400\n",
      "Production of Facility B  =  643  < Maximal Capacity of Production :  700\n",
      "Production of Facility C  =  352  < Maximal Capacity of Production :  550\n",
      "Production of Facility D  =  175  < Maximal Capacity of Production :  440\n",
      "+============================================================================+\n",
      "| Total Production :  1320            | \n",
      "+============================================================================+\n",
      "1320\n",
      "+============================================================================+\n",
      "\n",
      " Custumer  1 : 80 |  Custumer  2 : 270 |  Custumer  3 : 250 | \n",
      " Custumer  4 : 160 |  Custumer  5 : 180 |  Custumer  6 : 200 | \n",
      " Custumer  7 : 180 | \n",
      "+============================================================================+\n",
      "|               Total of Demands  by Custumer:   1320 |\n",
      "+============================================================================+\n",
      "[1320, [80, 270, 250, 160, 180, 200, 180]]\n",
      "+============================================================================+\n",
      "\n",
      "Somme secondaire :  1644\n",
      " Facility  A : 1644$ | Somme secondaire :  5412\n",
      " Facility  B : 3768$ | Somme secondaire :  8303\n",
      " Facility  C : 2891$ | \n",
      "Somme secondaire :  9712\n",
      " Facility  D : 1409$ | \n",
      "+============================================================================+\n",
      "| Total Price of Production : 9712 $\n",
      "+============================================================================+\n",
      "[9712, [894, 2568, 1991, 1009]]\n",
      "+============================================================================+\n",
      "\n",
      "Somme secondaire :  1644\n",
      " Facility  A : 1644$ | Somme secondaire :  5412\n",
      " Facility  B : 3768$ | Somme secondaire :  8303\n",
      " Facility  C : 2891$ | \n",
      "Somme secondaire :  9712\n",
      " Facility  D : 1409$ | \n",
      "+============================================================================+\n",
      "| Total Price of Production : 9712 $\n",
      "+============================================================================+\n"
     ]
    },
    {
     "data": {
      "image/png": "[encoded data removed]",
      "text/plain": [
       "<Figure size 432x288 with 1 Axes>"
      ]
     },
     "metadata": {},
     "output_type": "display_data"
    },
    {
     "name": "stdout",
     "output_type": "stream",
     "text": [
      "None\n",
      "\n",
      "Somme secondaire :  1644\n",
      " Facility  A : 1644$ | Somme secondaire :  5412\n",
      " Facility  B : 3768$ | Somme secondaire :  8303\n",
      " Facility  C : 2891$ | \n",
      "Somme secondaire :  9712\n",
      " Facility  D : 1409$ | \n",
      "+============================================================================+\n",
      "| Total Price of Production : 9712 $\n",
      "+============================================================================+\n"
     ]
    },
    {
     "data": {
      "text/plain": [
       "9712"
      ]
     },
     "execution_count": 25,
     "metadata": {},
     "output_type": "execute_result"
    }
   ],
   "source": [
    "Fonctions.bill(mutation)"
   ]
  },
  {
   "cell_type": "code",
   "execution_count": null,
   "metadata": {},
   "outputs": [],
   "source": []
  },
  {
   "cell_type": "code",
   "execution_count": null,
   "metadata": {},
   "outputs": [],
   "source": []
  },
  {
   "cell_type": "code",
   "execution_count": null,
   "metadata": {},
   "outputs": [],
   "source": []
  }
 ],
 "metadata": {
  "kernelspec": {
   "display_name": "Python 3",
   "language": "python",
   "name": "python3"
  },
  "language_info": {
   "codemirror_mode": {
    "name": "ipython",
    "version": 3
   },
   "file_extension": ".py",
   "mimetype": "text/x-python",
   "name": "python",
   "nbconvert_exporter": "python",
   "pygments_lexer": "ipython3",
   "version": "3.8.3"
  }
 },
 "nbformat": 4,
 "nbformat_minor": 4
}
